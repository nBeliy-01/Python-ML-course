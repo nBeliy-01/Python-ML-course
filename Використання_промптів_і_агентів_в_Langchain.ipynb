{
 "cells": [
  {
   "cell_type": "markdown",
   "metadata": {
    "id": "RMalK_oYR-X_"
   },
   "source": [
    "\n",
    "### Завдання 1: Виклик LLM з базовим промптом\n",
    "\n",
    "Створіть можливість викликати LLM зі звичайним текстовим промптом.\n",
    "\n",
    "Промпт має дозвляти отримати інформацію простою мовою на певну тему. В цьому завданні ми хочемо дізнатись про тему \"Квантові обчислення\".\n",
    "\n",
    "Відповідь моделі повинна містити визначення, ключові переваги та поточні дослідження в цій галузі.\n",
    "\n",
    "Обмежте відповідь до 200 символів і пропишіть в промпті аби відповідь була короткою (це зекономить Вам час і гроші на згенеровані токени).\n",
    "\n",
    "В якості LLM можна скористатись як моделлю з HugginFace (рекомендую Mistral), так і ChatGPT4 або ChatGPT3. В обох випадках треба імпортувати потрібну \"обгортку\" (тобто клас, який дозволить ініціювати модель) з LangChain для виклику LLM за API, а також зчитати особистий токен з файла, наприклад, `creds.json`, який розміщений у Вас локально і Ви НЕ здаєте його в ДЗ і НЕ комітите в git 😏\n",
    "\n",
    "Встановіть своє значення температури на свій розсуд (тут немає правильного чи неправильного значення) і напишіть, чому ви обрали саме таке значення для цього завдання.  \n",
    "\n",
    "Запити можна робити як українською, так і англійською - орієнтуйтесь на те, де і чи хочете ви потім лишити цей проєкт і відповідна яка мова буде пасувати більше. В розвʼязках промпти - українською."
   ]
  },
  {
   "cell_type": "code",
   "execution_count": 134,
   "metadata": {},
   "outputs": [],
   "source": [
    "import os\n",
    "\n",
    "# Записав hugging face access key в окремий файл\n",
    "file = open('credentials.txt').read()\n",
    "HUGGING_FACE_ACCESS_KEY = file.split(\"\\n\")[0].split(\"=\")[1]\n",
    "\n",
    "os.environ[\"HF_TOKEN\"] = HUGGING_FACE_ACCESS_KEY"
   ]
  },
  {
   "cell_type": "code",
   "execution_count": 2,
   "metadata": {
    "scrolled": true
   },
   "outputs": [
    {
     "name": "stdout",
     "output_type": "stream",
     "text": [
      "Defaulting to user installation because normal site-packages is not writeable\n",
      "Requirement already satisfied: langchain in /Users/bilukhan/Library/Python/3.12/lib/python/site-packages (0.3.23)\n",
      "Requirement already satisfied: langchain-core in /Users/bilukhan/Library/Python/3.12/lib/python/site-packages (0.3.51)\n",
      "Requirement already satisfied: langsmith in /Users/bilukhan/Library/Python/3.12/lib/python/site-packages (0.3.24)\n",
      "Requirement already satisfied: langchain-huggingface in /Users/bilukhan/Library/Python/3.12/lib/python/site-packages (0.1.2)\n",
      "Requirement already satisfied: langchain-text-splitters<1.0.0,>=0.3.8 in /Users/bilukhan/Library/Python/3.12/lib/python/site-packages (from langchain) (0.3.8)\n",
      "Requirement already satisfied: pydantic<3.0.0,>=2.7.4 in /Library/Frameworks/Python.framework/Versions/3.12/lib/python3.12/site-packages (from langchain) (2.8.2)\n",
      "Requirement already satisfied: SQLAlchemy<3,>=1.4 in /Library/Frameworks/Python.framework/Versions/3.12/lib/python3.12/site-packages (from langchain) (1.4.52)\n",
      "Requirement already satisfied: requests<3,>=2 in /Library/Frameworks/Python.framework/Versions/3.12/lib/python3.12/site-packages (from langchain) (2.32.3)\n",
      "Requirement already satisfied: PyYAML>=5.3 in /Library/Frameworks/Python.framework/Versions/3.12/lib/python3.12/site-packages (from langchain) (6.0.1)\n",
      "Requirement already satisfied: tenacity!=8.4.0,<10.0.0,>=8.1.0 in /Library/Frameworks/Python.framework/Versions/3.12/lib/python3.12/site-packages (from langchain-core) (8.2.3)\n",
      "Requirement already satisfied: jsonpatch<2.0,>=1.33 in /Library/Frameworks/Python.framework/Versions/3.12/lib/python3.12/site-packages (from langchain-core) (1.33)\n",
      "Requirement already satisfied: packaging<25,>=23.2 in /Library/Frameworks/Python.framework/Versions/3.12/lib/python3.12/site-packages (from langchain-core) (24.0)\n",
      "Requirement already satisfied: typing-extensions>=4.7 in /Library/Frameworks/Python.framework/Versions/3.12/lib/python3.12/site-packages (from langchain-core) (4.11.0)\n",
      "Requirement already satisfied: httpx<1,>=0.23.0 in /Library/Frameworks/Python.framework/Versions/3.12/lib/python3.12/site-packages (from langsmith) (0.28.0)\n",
      "Requirement already satisfied: orjson<4.0.0,>=3.9.14 in /Library/Frameworks/Python.framework/Versions/3.12/lib/python3.12/site-packages (from langsmith) (3.10.7)\n",
      "Requirement already satisfied: requests-toolbelt<2.0.0,>=1.0.0 in /Library/Frameworks/Python.framework/Versions/3.12/lib/python3.12/site-packages (from langsmith) (1.0.0)\n",
      "Requirement already satisfied: zstandard<0.24.0,>=0.23.0 in /Users/bilukhan/Library/Python/3.12/lib/python/site-packages (from langsmith) (0.23.0)\n",
      "Requirement already satisfied: huggingface-hub>=0.23.0 in /Users/bilukhan/Library/Python/3.12/lib/python/site-packages (from langchain-huggingface) (0.30.1)\n",
      "Requirement already satisfied: sentence-transformers>=2.6.0 in /Users/bilukhan/Library/Python/3.12/lib/python/site-packages (from langchain-huggingface) (4.0.2)\n",
      "Requirement already satisfied: tokenizers>=0.19.1 in /Users/bilukhan/Library/Python/3.12/lib/python/site-packages (from langchain-huggingface) (0.21.1)\n",
      "Requirement already satisfied: transformers>=4.39.0 in /Users/bilukhan/Library/Python/3.12/lib/python/site-packages (from langchain-huggingface) (4.51.0)\n",
      "Requirement already satisfied: anyio in /Library/Frameworks/Python.framework/Versions/3.12/lib/python3.12/site-packages (from httpx<1,>=0.23.0->langsmith) (3.7.1)\n",
      "Requirement already satisfied: certifi in /Library/Frameworks/Python.framework/Versions/3.12/lib/python3.12/site-packages (from httpx<1,>=0.23.0->langsmith) (2024.2.2)\n",
      "Requirement already satisfied: httpcore==1.* in /Library/Frameworks/Python.framework/Versions/3.12/lib/python3.12/site-packages (from httpx<1,>=0.23.0->langsmith) (1.0.7)\n",
      "Requirement already satisfied: idna in /Library/Frameworks/Python.framework/Versions/3.12/lib/python3.12/site-packages (from httpx<1,>=0.23.0->langsmith) (2.10)\n",
      "Requirement already satisfied: h11<0.15,>=0.13 in /Library/Frameworks/Python.framework/Versions/3.12/lib/python3.12/site-packages (from httpcore==1.*->httpx<1,>=0.23.0->langsmith) (0.14.0)\n",
      "Requirement already satisfied: filelock in /Library/Frameworks/Python.framework/Versions/3.12/lib/python3.12/site-packages (from huggingface-hub>=0.23.0->langchain-huggingface) (3.13.1)\n",
      "Requirement already satisfied: fsspec>=2023.5.0 in /Library/Frameworks/Python.framework/Versions/3.12/lib/python3.12/site-packages (from huggingface-hub>=0.23.0->langchain-huggingface) (2023.12.2)\n",
      "Requirement already satisfied: tqdm>=4.42.1 in /Library/Frameworks/Python.framework/Versions/3.12/lib/python3.12/site-packages (from huggingface-hub>=0.23.0->langchain-huggingface) (4.67.1)\n",
      "Requirement already satisfied: jsonpointer>=1.9 in /Library/Frameworks/Python.framework/Versions/3.12/lib/python3.12/site-packages (from jsonpatch<2.0,>=1.33->langchain-core) (3.0.0)\n",
      "Requirement already satisfied: annotated-types>=0.4.0 in /Library/Frameworks/Python.framework/Versions/3.12/lib/python3.12/site-packages (from pydantic<3.0.0,>=2.7.4->langchain) (0.7.0)\n",
      "Requirement already satisfied: pydantic-core==2.20.1 in /Library/Frameworks/Python.framework/Versions/3.12/lib/python3.12/site-packages (from pydantic<3.0.0,>=2.7.4->langchain) (2.20.1)\n",
      "Requirement already satisfied: charset-normalizer<4,>=2 in /Library/Frameworks/Python.framework/Versions/3.12/lib/python3.12/site-packages (from requests<3,>=2->langchain) (3.3.2)\n",
      "Requirement already satisfied: urllib3<3,>=1.21.1 in /Library/Frameworks/Python.framework/Versions/3.12/lib/python3.12/site-packages (from requests<3,>=2->langchain) (1.26.18)\n",
      "Requirement already satisfied: torch>=1.11.0 in /Library/Frameworks/Python.framework/Versions/3.12/lib/python3.12/site-packages (from sentence-transformers>=2.6.0->langchain-huggingface) (2.3.1)\n",
      "Requirement already satisfied: scikit-learn in /Users/bilukhan/Library/Python/3.12/lib/python/site-packages (from sentence-transformers>=2.6.0->langchain-huggingface) (1.6.1)\n",
      "Requirement already satisfied: scipy in /Library/Frameworks/Python.framework/Versions/3.12/lib/python3.12/site-packages (from sentence-transformers>=2.6.0->langchain-huggingface) (1.12.0)\n",
      "Requirement already satisfied: Pillow in /Library/Frameworks/Python.framework/Versions/3.12/lib/python3.12/site-packages (from sentence-transformers>=2.6.0->langchain-huggingface) (10.2.0)\n",
      "Requirement already satisfied: numpy>=1.17 in /Library/Frameworks/Python.framework/Versions/3.12/lib/python3.12/site-packages (from transformers>=4.39.0->langchain-huggingface) (1.26.4)\n",
      "Requirement already satisfied: regex!=2019.12.17 in /Library/Frameworks/Python.framework/Versions/3.12/lib/python3.12/site-packages (from transformers>=4.39.0->langchain-huggingface) (2023.12.25)\n",
      "Requirement already satisfied: safetensors>=0.4.3 in /Library/Frameworks/Python.framework/Versions/3.12/lib/python3.12/site-packages (from transformers>=4.39.0->langchain-huggingface) (0.4.5)\n",
      "Requirement already satisfied: sympy in /Library/Frameworks/Python.framework/Versions/3.12/lib/python3.12/site-packages (from torch>=1.11.0->sentence-transformers>=2.6.0->langchain-huggingface) (1.13.1)\n",
      "Requirement already satisfied: networkx in /Library/Frameworks/Python.framework/Versions/3.12/lib/python3.12/site-packages (from torch>=1.11.0->sentence-transformers>=2.6.0->langchain-huggingface) (3.2.1)\n",
      "Requirement already satisfied: jinja2 in /Library/Frameworks/Python.framework/Versions/3.12/lib/python3.12/site-packages (from torch>=1.11.0->sentence-transformers>=2.6.0->langchain-huggingface) (3.1.3)\n",
      "Requirement already satisfied: sniffio>=1.1 in /Library/Frameworks/Python.framework/Versions/3.12/lib/python3.12/site-packages (from anyio->httpx<1,>=0.23.0->langsmith) (1.3.1)\n",
      "Requirement already satisfied: joblib>=1.2.0 in /Library/Frameworks/Python.framework/Versions/3.12/lib/python3.12/site-packages (from scikit-learn->sentence-transformers>=2.6.0->langchain-huggingface) (1.3.2)\n",
      "Requirement already satisfied: threadpoolctl>=3.1.0 in /Library/Frameworks/Python.framework/Versions/3.12/lib/python3.12/site-packages (from scikit-learn->sentence-transformers>=2.6.0->langchain-huggingface) (3.3.0)\n",
      "Requirement already satisfied: MarkupSafe>=2.0 in /Library/Frameworks/Python.framework/Versions/3.12/lib/python3.12/site-packages (from jinja2->torch>=1.11.0->sentence-transformers>=2.6.0->langchain-huggingface) (2.1.5)\n",
      "Requirement already satisfied: mpmath<1.4,>=1.1.0 in /Library/Frameworks/Python.framework/Versions/3.12/lib/python3.12/site-packages (from sympy->torch>=1.11.0->sentence-transformers>=2.6.0->langchain-huggingface) (1.3.0)\n"
     ]
    }
   ],
   "source": [
    "!pip install -U langchain langchain-core langsmith langchain-huggingface"
   ]
  },
  {
   "cell_type": "code",
   "execution_count": 29,
   "metadata": {},
   "outputs": [],
   "source": [
    "from huggingface_hub import InferenceClient\n",
    "import langchain_huggingface\n",
    "from langchain_huggingface import HuggingFaceEndpoint\n",
    "from langchain_core.runnables import RunnableSequence"
   ]
  },
  {
   "cell_type": "code",
   "execution_count": 95,
   "metadata": {
    "id": "vT1ICe74cAUS"
   },
   "outputs": [
    {
     "name": "stderr",
     "output_type": "stream",
     "text": [
      "Note: Environment variable`HF_TOKEN` is set and is the current active token independently from the token you've just configured.\n"
     ]
    }
   ],
   "source": [
    "''' Виставляю температуру 0.1, для отримання найбільш релевантних відповідей, припустимо що я працюю дослідником в \n",
    "    науковому виданні та інформацію використовуватимуть студенти в навчальних цілях. Тому потрібно, щоб студенти\n",
    "    \"довіряли\" даній інформації.\n",
    "'''\n",
    "overal_temperature = 0.1 \n",
    "\n",
    "mistral_llm = HuggingFaceEndpoint(\n",
    "    repo_id=\"mistralai/Mistral-7B-Instruct-v0.3\",\n",
    "    task=\"text-generation\",\n",
    "    temperature=overal_temperature,\n",
    "    max_new_tokens=800\n",
    ")"
   ]
  },
  {
   "cell_type": "code",
   "execution_count": 27,
   "metadata": {},
   "outputs": [
    {
     "name": "stderr",
     "output_type": "stream",
     "text": [
      "/Users/bilukhan/Library/Python/3.12/lib/python/site-packages/huggingface_hub/utils/_deprecation.py:131: FutureWarning: 'post' (from 'huggingface_hub.inference._client') is deprecated and will be removed from version '0.31.0'. Making direct POST requests to the inference server is not supported anymore. Please use task methods instead (e.g. `InferenceClient.chat_completion`). If your use case is not supported, please open an issue in https://github.com/huggingface/huggingface_hub.\n",
      "  warnings.warn(warning_message, FutureWarning)\n"
     ]
    }
   ],
   "source": [
    "response = mistral_llm.invoke('''Відповідай українською, мені потрібна лише відповідь, без коментарів. \n",
    "                    Дай визначення квантовим обчисленням. \n",
    "                    Наведи ключові переваги та поточні дослідження. \n",
    "                    Будь конкретним, опиши інформацію стисло.''')"
   ]
  },
  {
   "cell_type": "code",
   "execution_count": 28,
   "metadata": {},
   "outputs": [
    {
     "name": "stdout",
     "output_type": "stream",
     "text": [
      "\n",
      "\n",
      "Квантове обчислення - це область комп'ютерних наук, яка використовує квантові ефекти для обчислень, щоб досягти швидкості, яка перевищує класичну обчислювальну швидкість.\n",
      "\n",
      "Ключові переваги квантового обчислення:\n",
      "1. Швидкість: Квантові комп'ютери можуть обчислювати за експоненціально меншу кількість кроків, ніж класичні комп'ютери.\n",
      "2. енергоефективність: Квантові комп'ютери можуть використовувати менше енергії, ніж класичні комп'утери, для виконання одних і тих\n"
     ]
    }
   ],
   "source": [
    "print(response)"
   ]
  },
  {
   "cell_type": "markdown",
   "metadata": {
    "id": "UiIzV0UIS0GA"
   },
   "source": [
    "### Завдання 2: Створення параметризованого промпта для генерації тексту\n",
    "Тепер ми хочемо оновити попередній фукнціонал так, аби в промпт ми могли передавати тему як параметр. Для цього скористайтесь `PromptTemplate` з `langchain` і реалізуйте параметризований промпт та виклик моделі з ним.\n",
    "\n",
    "Запустіть оновлений функціонал (промпт + модел) для пояснень про теми\n",
    "- \"Баєсівські методи в машинному навчанні\"\n",
    "- \"Трансформери в машинному навчанні\"\n",
    "- \"Explainable AI\"\n",
    "\n",
    "Виведіть результати відпрацювання моделі на екран."
   ]
  },
  {
   "cell_type": "code",
   "execution_count": 43,
   "metadata": {
    "id": "kcg7EfdNcBDq"
   },
   "outputs": [],
   "source": [
    "from langchain_core.prompts import PromptTemplate\n",
    "\n",
    "prompt = PromptTemplate(\n",
    "    input_variables=[\"topic\"],\n",
    "    template=\"Відповідай українською, мені потрібна лише відповідь, без коментарів. Дай визначення {topic}. Наведи ключові переваги та поточні дослідження. Будь конкретним, опиши інформацію стисло.\"\n",
    ")"
   ]
  },
  {
   "cell_type": "code",
   "execution_count": 47,
   "metadata": {},
   "outputs": [
    {
     "name": "stdout",
     "output_type": "stream",
     "text": [
      "\n",
      "\n",
      "Баєсівські методи в машинному навчанні - це підхід до вирішення задач машинного навчання, який базується на теорії ймовірностей та припущенні про те, що всі параметри моделі є випадковими з певними а priori розподілами.\n",
      "\n",
      "Ключові переваги Баєсівських методів:\n",
      "\n",
      "1. **Природна інтерпретація**: Баєсівські методи дозволяють інтерпретувати результати як ймовірнісні розподіли, що робить їх привабливими для багатьох задач, де необхідно визначити ступінь довіри до результатів.\n",
      "2. **\n"
     ]
    },
    {
     "name": "stderr",
     "output_type": "stream",
     "text": [
      "/Users/bilukhan/Library/Python/3.12/lib/python/site-packages/huggingface_hub/utils/_deprecation.py:131: FutureWarning: 'post' (from 'huggingface_hub.inference._client') is deprecated and will be removed from version '0.31.0'. Making direct POST requests to the inference server is not supported anymore. Please use task methods instead (e.g. `InferenceClient.chat_completion`). If your use case is not supported, please open an issue in https://github.com/huggingface/huggingface_hub.\n",
      "  warnings.warn(warning_message, FutureWarning)\n"
     ]
    }
   ],
   "source": [
    "prompt_input = prompt.format(topic=\"Баєсівські методи в машинному навчанні\")\n",
    "\n",
    "print(mistral_llm.invoke(prompt_input))"
   ]
  },
  {
   "cell_type": "code",
   "execution_count": 48,
   "metadata": {},
   "outputs": [
    {
     "name": "stdout",
     "output_type": "stream",
     "text": [
      "\n",
      "\n",
      "Трансформери (Transformer) - це архітектура моделі машинного навчання, яка використовується для задач машинного перекладу, аудіоперекладу та інших задач, що вимагають обробки послідовностей даних.\n",
      "\n",
      "Основна перевага Трансформерів полягає в тому, що вони можуть ефективно обробляти довгі послідовності даних, не втрачаючи інформації, як це часто відбувається при використанні рекурентних нейронних мереж (RNN).\n",
      "\n",
      "Ключовими дослідженнями в області Трансформерів є:\n",
      "\n",
      "1. Розширення Трансформерів\n"
     ]
    },
    {
     "name": "stderr",
     "output_type": "stream",
     "text": [
      "/Users/bilukhan/Library/Python/3.12/lib/python/site-packages/huggingface_hub/utils/_deprecation.py:131: FutureWarning: 'post' (from 'huggingface_hub.inference._client') is deprecated and will be removed from version '0.31.0'. Making direct POST requests to the inference server is not supported anymore. Please use task methods instead (e.g. `InferenceClient.chat_completion`). If your use case is not supported, please open an issue in https://github.com/huggingface/huggingface_hub.\n",
      "  warnings.warn(warning_message, FutureWarning)\n"
     ]
    }
   ],
   "source": [
    "prompt_input = prompt.format(topic=\"Трансформери в машинному навчанні\")\n",
    "\n",
    "print(mistral_llm.invoke(prompt_input))"
   ]
  },
  {
   "cell_type": "code",
   "execution_count": 69,
   "metadata": {},
   "outputs": [
    {
     "name": "stderr",
     "output_type": "stream",
     "text": [
      "/Users/bilukhan/Library/Python/3.12/lib/python/site-packages/huggingface_hub/utils/_deprecation.py:131: FutureWarning: 'post' (from 'huggingface_hub.inference._client') is deprecated and will be removed from version '0.31.0'. Making direct POST requests to the inference server is not supported anymore. Please use task methods instead (e.g. `InferenceClient.chat_completion`). If your use case is not supported, please open an issue in https://github.com/huggingface/huggingface_hub.\n",
      "  warnings.warn(warning_message, FutureWarning)\n"
     ]
    },
    {
     "name": "stdout",
     "output_type": "stream",
     "text": [
      "\n",
      "\n",
      " Explainable AI (XAI) - це підхід до штучного інтелекту, який надає можливість людям розуміти та інтерпретувати рішення, які приймає штучний інтелекту. Це дозволяє зрозуміти, як алгоритми приймають рішення, що допомагає збільшити довіру до штучного інтелекту та зменшити ризики, пов'язані з непрозорими рішеннями.\n",
      "\n",
      " Ключові переваги XAI:\n",
      "\n",
      "1. Збільшення довіри до штучного інтелекту: люди більш довіряють рішенням, які вони можуть розуміти.\n",
      "2. Зменшення ри\n"
     ]
    }
   ],
   "source": [
    "prompt_input = prompt.format(topic=\"Explainable AI\")\n",
    "\n",
    "print(mistral_llm.invoke(prompt_input))"
   ]
  },
  {
   "cell_type": "markdown",
   "metadata": {
    "id": "m9UsL2gXSe-3"
   },
   "source": [
    "\n",
    "\n",
    "### Завдання 3: Використання агента для автоматизації процесів\n",
    "Створіть агента, який допоможе автоматично шукати інформацію про останні наукові публікації в різних галузях. Наприклад, агент має знайти 5 останніх публікацій на тему штучного інтелекту.\n",
    "\n",
    "**Кроки:**\n",
    "1. Налаштуйте агента типу ReAct в LangChain для виконання автоматичних запитів.\n",
    "2. Створіть промпт, який спрямовує агента шукати інформацію в інтернеті або в базах даних наукових публікацій.\n",
    "3. Агент повинен видати список публікацій, кожна з яких містить назву, авторів і короткий опис.\n",
    "\n",
    "Для взаємодії з пошуком там необхідно створити `Tool`. В лекції ми використовували `serpapi`. Можна продовжити користуватись ним, або обрати інше АРІ для пошуку (вони в тому числі є безкоштовні). Перелік різних АРІ, доступних в langchain, і орієнтир по вартості запитів можна знайти в окремому документі [тут](https://hannapylieva.notion.site/API-12994835849480a69b2adf2b8441cbb3?pvs=4).\n",
    "\n",
    "Лишаю також нижче приклад використання одного з безкоштовних пошукових АРІ - DuckDuckGo (не потребує створення токена!)  - можливо він вам сподобається :)\n"
   ]
  },
  {
   "cell_type": "code",
   "execution_count": 70,
   "metadata": {
    "colab": {
     "base_uri": "https://localhost:8080/"
    },
    "id": "Jzj4PHP9XwH-",
    "outputId": "08118bad-e4c6-4873-feb0-e3890dc5c6a4"
   },
   "outputs": [
    {
     "name": "stdout",
     "output_type": "stream",
     "text": [
      "\u001b[33m  WARNING: The script ddgs is installed in '/Users/bilukhan/Library/Python/3.12/bin' which is not on PATH.\n",
      "  Consider adding this directory to PATH or, if you prefer to suppress this warning, use --no-warn-script-location.\u001b[0m\u001b[33m\n",
      "\u001b[0m"
     ]
    }
   ],
   "source": [
    "!pip install -q langchain_community duckduckgo_search"
   ]
  },
  {
   "cell_type": "code",
   "execution_count": 100,
   "metadata": {
    "colab": {
     "base_uri": "https://localhost:8080/",
     "height": 139
    },
    "id": "p56AZ_SnXvTs",
    "outputId": "fcee82cc-03d7-4402-a243-0033596a9ea9"
   },
   "outputs": [
    {
     "data": {
      "text/plain": [
       "\"The White House, official residence of the president of the United States, in 2008. The president of the United States is the head of state and head of government of the United States, [1] indirectly elected to a four-year term via the Electoral College. [2] Under the U.S. Constitution, the officeholder leads the executive branch of the federal government and is the commander-in-chief of the ... Obama's father, Barack Obama, Sr., was a teenage goatherd in rural Kenya, won a scholarship to study in the United States, and eventually became a senior economist in the Kenyan government.Obama's mother, S. Ann Dunham, grew up in Kansas, Texas, and Washington state before her family settled in Honolulu.In 1960 she and Barack Sr. met in a Russian language class at the University of Hawaii ... The Irish Sun, It's a fake Barack Obama's brother posts forged document he claims is ex-president's 'Kenyan birth certificate,' March 11, 2017 Salon, Orly Taitz is at it again , Sept. 4, 2009 Jimmy, the first president to use his nickname in an official capacity, rather than his first name James. [195] Jimmy Cardigan, got the nickname after he wore a sweater instead of a suit one day [18] The Peanut Farmer, [196] he owned a peanut farm and fostered this image in his early campaigns, as a contrast to elite Washington insiders. Obama's Last Name refers to a misconception held by certain individuals that former United States president Barack Obama's first name is Obama and not Barack. Starting in mid-2019, memes speculating on what Obama's last name could be and imagining it being a well-guarded secret gained significant popularity in meme communities. Origin\""
      ]
     },
     "execution_count": 100,
     "metadata": {},
     "output_type": "execute_result"
    }
   ],
   "source": [
    "from langchain.utilities import DuckDuckGoSearchAPIWrapper\n",
    "\n",
    "search = DuckDuckGoSearchAPIWrapper()\n",
    "\n",
    "search.run(\"Obama's first name?\")"
   ]
  },
  {
   "cell_type": "code",
   "execution_count": 104,
   "metadata": {},
   "outputs": [],
   "source": [
    "!pip install -q langchain_ollama"
   ]
  },
  {
   "cell_type": "code",
   "execution_count": 105,
   "metadata": {
    "id": "60jZEitmcCiP"
   },
   "outputs": [],
   "source": [
    "from langchain import hub\n",
    "from langchain.agents import load_tools\n",
    "from langchain.agents import Tool, AgentExecutor, AgentType, create_react_agent, initialize_agent\n",
    "from langchain_ollama.llms import OllamaLLM"
   ]
  },
  {
   "cell_type": "markdown",
   "metadata": {},
   "source": [
    "На даному етапі я використаю іншу модель `Gemma2:27b`, оскільки використав безкоштовні кредити HuggingFace"
   ]
  },
  {
   "cell_type": "code",
   "execution_count": 141,
   "metadata": {},
   "outputs": [],
   "source": [
    "model=file.split(\"\\n\")[1].split(\"=\")[1]\n",
    "url = file.split(\"\\n\")[2].split(\"=\")[1]\n",
    "gemma = OllamaLLM(model=model, base_url=url, temperature=overal_temperature)"
   ]
  },
  {
   "cell_type": "code",
   "execution_count": 143,
   "metadata": {},
   "outputs": [
    {
     "name": "stderr",
     "output_type": "stream",
     "text": [
      "/Users/bilukhan/Library/Python/3.12/lib/python/site-packages/langsmith/client.py:278: LangSmithMissingAPIKeyWarning: API key must be provided when using hosted LangSmith API\n",
      "  warnings.warn(\n"
     ]
    }
   ],
   "source": [
    "search_tool = Tool(\n",
    "    name=\"DuckDuckGo Search\",\n",
    "    func=search.run,\n",
    "    description=\"A search engine. Useful for when you need to answer questions about current events. Input should be a search query.\"\n",
    ")\n",
    "\n",
    "prompt = hub.pull(\"hwchase17/react\")\n",
    "\n",
    "agent = create_react_agent(gemma, [search_tool], prompt)\n",
    "agent_executor = AgentExecutor(agent=agent, tools=[search_tool], verbose=True, handle_parsing_errors=True)"
   ]
  },
  {
   "cell_type": "code",
   "execution_count": 153,
   "metadata": {},
   "outputs": [
    {
     "name": "stdout",
     "output_type": "stream",
     "text": [
      "\n",
      "\n",
      "\u001b[1m> Entering new AgentExecutor chain...\u001b[0m\n",
      "\u001b[32;1m\u001b[1;3mThought: Щоб знайти найновіші публікації з штучного інтелекту з інформацією про авторів, мені потрібно скористатися пошуковою системою DuckDuckGo.\n",
      "\n",
      "Action: DuckDuckGo Search\n",
      "Action Input: \"найновіші публікації штучний інтелект автор\"\u001b[0m\u001b[36;1m\u001b[1;3mCEO ІТ-компанії DevRain, автор книжки «ChatGPT, DALL·E, Midjourney. Як генеративний штучний інтелект змінює світ» Олександр Краковецький поділився в соцмережах добіркою книжок про штучний інтелект українською мовою. Автор романів зі штучним інтелектом — це складні програмні інструменти, які використовують штучний інтелект, зокрема обробку природної мови (NLP) і алгоритми машинного навчання, щоб допомогти авторам у створенні письмового вмісту. Дізнайтеся про найцікавіші книжкові новинки 2025 року у сферах бізнесу, штучного інтелекту, кібербезпеки та лідерства. Огляд must-read видань для професійного та особистого розвитку. Минулого року я публікував добірку топ-10 книг про штучний інтелект. Однак за останній рік вийшли нові книги, що враховують найсвіжіші досягнення та тренди в генеративному ШІ. Ендрю Ин — відомий фахівець у галузі комп'ютерних наук та штучного інтелекту. Він впевнений, що шлях до особистісних змін можна розпочати з правильних книг, які допоможуть переосмислити життя та розширити кругозір. Про п'ять таких книг, які радить фахівець, пише Blinkist Magazine. Що буде означати розвиток передового ШІ для людства?\u001b[0m\u001b[32;1m\u001b[1;3mThought: Я знайшов багато інформації про штучний інтелект, але мені потрібно краще структурувати її, щоб відповісти на запит.\n",
      "\n",
      "Action: DuckDuckGo Search\n",
      "Action Input: \"5 найновіших публікацій штучний інтелект автор\"\u001b[0m\u001b[36;1m\u001b[1;3m«Як працює штучний інтелект» — це стисла та чітка книга, розроблена для окреслення основних основ машинного навчання. Ця книга полегшує вивчення багатої історії машинного навчання, подорожуючи від зародження застарілих систем ШІ до появи сучасних методологій. Ендрю Ин рекомендує 5 книг, які допоможуть зрозуміти майбутнє штучного інтелекту, його вплив на людство та бізнес. Ці важливі видання допоможуть переосмислити життя та розширити кругозір. CEO ІТ-компанії DevRain, автор книжки «ChatGPT, DALL·E, Midjourney. Як генеративний штучний інтелект змінює світ» Олександр Краковецький поділився в соцмережах добіркою книжок про штучний інтелект українською мовою. Дізнайтеся про найцікавіші книжкові новинки 2025 року у сферах бізнесу, штучного інтелекту, кібербезпеки та лідерства. Огляд must-read видань для професійного та особистого розвитку. Звертаємо вашу увагу на добірку наукових публікацій про штучний інтелект. Викладачі Бердянського державного педагогічного університету активно досліджують різні аспекти ШІ, його застосування в освіті та інших сферах. Їхні статті відображають широкий спектр досліджень та практичних застосувань ШІ, роблячи вагомий внесок у світову наукову спільноту.\u001b[0m\u001b[32;1m\u001b[1;3mThought: Я знайшов багато інформації про публікації з штучного інтелекту, але мені потрібно вибрати 5 найновіших та структурувати їх у список.\n",
      "\n",
      "Action: DuckDuckGo Search\n",
      "Action Input: \"найновіші публікації штучний інтелект автор дата\"\u001b[0m\u001b[36;1m\u001b[1;3mФото: AI Day 2025 Forbes Ukraine Як зазначає Zaxid.net, AI Day 2025 став першою в Україні конференцією, повністю присвяченою застосуванню ШІ в бізнесі.Дискусії заходу були присвячені впливу штучного інтелекту на економіку, юридичних ... В Україні навчають штучний інтелект ухвалювати рішення на полі бою — Reuters. Більше по темі Штучний інтелект 2025 рік обіцяє низку захопливих книжкових новинок, які відображають сучасні виклики у світі технологій, бізнесу та управління. Штучний інтелект продовжує трансформувати різні галузі — від програмування до стратегічного планування. Блокчейн, своєю чергою, змінює фінансову систему та IT-екосистему. Генеральний директор компанії Google DeepMind Деміс Гассабіс прогнозує що штучний генералізований інтелект (AGI), який зможе виконувати будь-які інтелектуальні завдання на рівні людини, стане ... Автор. Галина Михайлова ... що штучний інтелект може бути не тільки джерелом фейкових фото, а й дизайнером інтер'єрів. ... Дата публікації 31 грудня 2024, 19:25. Найкращі СМС-побажання на Новий рік 2025 ...\u001b[0m\u001b[32;1m\u001b[1;3mThought: Я знайшов інформацію про дати публікацій та авторів. Тепер я можу скласти список з 5 найновіших публікацій.\n",
      "\n",
      "Final Answer:\n",
      "\n",
      "1. **Назва:** AI Day 2025\n",
      "   **Автор:** Zaxid.net\n",
      "   **Короткий опис:** Перша в Україні конференція, повністю присвячена застосуванню ШІ в бізнесі. Дискусії заходу були присвячені впливу штучного інтелекту на економіку та юридичні аспекти його використання.\n",
      "\n",
      "2. **Назва:** В Україні навчають штучний інтелект ухвалювати рішення на полі бою\n",
      "   **Автор:** Reuters\n",
      "   **Короткий опис:** Стаття про українські розробки в галузі військового застосування штучного інтелекту.\n",
      "\n",
      "3. **Назва:** Штучний інтелект 2025 рік\n",
      "   **Автор:** Forbes Ukraine\n",
      "   **Короткий опис:** Огляд книжкових новинок 2025 року, які відображають сучасні виклики у світі технологій, бізнесу та управління.\n",
      "\n",
      "4. **Назва:** Генеральний директор Google DeepMind прогнозує появу AGI\n",
      "   **Автор:** Галина Михайлова\n",
      "   **Короткий опис:**  Прогноз про появу штучного генералізованого інтелекту (AGI), який зможе виконувати будь-які інтелектуальні завдання на рівні людини.\n",
      "\n",
      "5. **Назва:** Штучний інтелект може бути дизайнером інтер'єрів\n",
      "   **Автор:** Не вказано\n",
      "   **Короткий опис:**  Стаття про те, як штучний інтелект може використовуватись для створення дизайнів інтер'єрів.\u001b[0m\n",
      "\n",
      "\u001b[1m> Finished chain.\u001b[0m\n"
     ]
    }
   ],
   "source": [
    "response = agent_executor.invoke({\"input\": \"Знайди 5 найновіших публікацій на тему штучний інтелект, які містять інформацію про автора. Виведи публікації списком, включаючи назву, автора та короткий опис публікації. Виведи результат українською, це дуже важливо.\"})"
   ]
  },
  {
   "cell_type": "code",
   "execution_count": 154,
   "metadata": {},
   "outputs": [
    {
     "name": "stdout",
     "output_type": "stream",
     "text": [
      "1. **Назва:** AI Day 2025\n",
      "   **Автор:** Zaxid.net\n",
      "   **Короткий опис:** Перша в Україні конференція, повністю присвячена застосуванню ШІ в бізнесі. Дискусії заходу були присвячені впливу штучного інтелекту на економіку та юридичні аспекти його використання.\n",
      "\n",
      "2. **Назва:** В Україні навчають штучний інтелект ухвалювати рішення на полі бою\n",
      "   **Автор:** Reuters\n",
      "   **Короткий опис:** Стаття про українські розробки в галузі військового застосування штучного інтелекту.\n",
      "\n",
      "3. **Назва:** Штучний інтелект 2025 рік\n",
      "   **Автор:** Forbes Ukraine\n",
      "   **Короткий опис:** Огляд книжкових новинок 2025 року, які відображають сучасні виклики у світі технологій, бізнесу та управління.\n",
      "\n",
      "4. **Назва:** Генеральний директор Google DeepMind прогнозує появу AGI\n",
      "   **Автор:** Галина Михайлова\n",
      "   **Короткий опис:**  Прогноз про появу штучного генералізованого інтелекту (AGI), який зможе виконувати будь-які інтелектуальні завдання на рівні людини.\n",
      "\n",
      "5. **Назва:** Штучний інтелект може бути дизайнером інтер'єрів\n",
      "   **Автор:** Не вказано\n",
      "   **Короткий опис:**  Стаття про те, як штучний інтелект може використовуватись для створення дизайнів інтер'єрів.\n"
     ]
    }
   ],
   "source": [
    "print(response['output'])"
   ]
  },
  {
   "cell_type": "markdown",
   "metadata": {
    "id": "IOqujC6qY_NY"
   },
   "source": [
    "\n",
    "\n",
    "### Завдання 4: Створення агента-помічника для вирішення бізнес-задач\n",
    "\n",
    "Створіть агента, який допомагає вирішувати задачі бізнес-аналітики. Агент має допомогти користувачу створити прогноз по продажам на наступний рік враховуючи рівень інфляції і погодні умови. Агент має вміти використовувати Python і ходити в інтернет аби отримати актуальні дані.\n",
    "\n",
    "**Кроки:**\n",
    "1. Налаштуйте агента, який працюватиме з аналітичними даними, заданими текстом. Користувач пише\n",
    "\n",
    "```\n",
    "Ми експортуємо апельсини з Бразилії. В 2021 експортували 200т, в 2022 - 190т, в 2023 - 210т, в 2024 який ще не закінчився - 220т. Зроби оцінку скільки ми зможемо експортувати апельсинів в 2025 враховуючи погодні умови в Бразилії і попит на апельсини в світі виходячи з економічної ситуації.\n",
    "```\n",
    "\n",
    "2. Створіть запит до агента, що містить чітке завдання – видати результат бізнес аналізу або написати, що він не може цього зробити і запит користувача (просто може бути все одним повідомлленням).\n",
    "\n",
    "3. Запустіть агента і проаналізуйте результати. Що можна покращити?\n"
   ]
  },
  {
   "cell_type": "code",
   "execution_count": 202,
   "metadata": {},
   "outputs": [],
   "source": [
    "!pip install -q langchain_experimental numexpr"
   ]
  },
  {
   "cell_type": "code",
   "execution_count": 203,
   "metadata": {},
   "outputs": [],
   "source": [
    "from langchain.chains import LLMMathChain\n",
    "from langchain_experimental.utilities import PythonREPL"
   ]
  },
  {
   "cell_type": "code",
   "execution_count": 204,
   "metadata": {},
   "outputs": [],
   "source": [
    "problem_chain = LLMMathChain.from_llm(llm=gemma)\n",
    "math_tool = Tool.from_function(name=\"Calculator\", \n",
    "                              func=problem_chain.run,\n",
    "                              description=\"Useful for when you need to answer questions about math. This tool is only for math questions and nothing else. Only input math expressions.\")"
   ]
  },
  {
   "cell_type": "code",
   "execution_count": 231,
   "metadata": {},
   "outputs": [],
   "source": [
    "python_repl = PythonREPL()\n",
    "python_tool = Tool(\n",
    "    name=\"python_interpreter\",\n",
    "    func=python_repl.run,\n",
    "    description=\"A Python shell. Use this to execute python commands. Input should be a valid python command. If you want to see the output of a value, you necessarily should print it out with `print(...)`. Otherwise you won't see the result! It's very important.\"\n",
    ")"
   ]
  },
  {
   "cell_type": "code",
   "execution_count": 232,
   "metadata": {},
   "outputs": [],
   "source": [
    "tools = [search_tool, math_tool, python_tool]\n",
    "\n",
    "agent = create_react_agent(gemma, tools, prompt)\n",
    "agent_executor = AgentExecutor(agent=agent, tools=tools, verbose=True, handle_parsing_errors=True)"
   ]
  },
  {
   "cell_type": "code",
   "execution_count": 236,
   "metadata": {},
   "outputs": [
    {
     "name": "stdout",
     "output_type": "stream",
     "text": [
      "\n",
      "\n",
      "\u001b[1m> Entering new AgentExecutor chain...\u001b[0m\n",
      "\u001b[32;1m\u001b[1;3mThought: This question requires analyzing trends and making a prediction based on several factors. I need more information about weather patterns in Brazil and global orange demand. \n",
      "\n",
      "Action: DuckDuckGo Search\n",
      "Action Input: \"weather patterns in brazil 2025 forecast\"\u001b[0m\u001b[36;1m\u001b[1;3mDry weather in southernmost Brazil and Argentina isn't likely to impact production expectations. But that could change, particularly in Argentina. ... 2025 forecast: Wet spring and tight planting windows. Apr 7, 2025 | 3 Min Read. Will a pivot to corn pay off? Apr 7, 2025 | 3 Min Read. Aug 26 - Aug 28, 2025. Dynamic Weather Pattern Across Brazil/Argentina Continues. Upper Air Pattern Changes: Wetter Argentina ... 02/12/2025, 12:06 pm EST. Show all. 02/10/2025, 5:19 am EST. Fig. 1-2: February 1-7, 2025, South America temperature anomalies and attendant 500 MB ... Global Soil Moisture Observation Trend/Forecast 03/06/2025, 1:45 pm EST; Update on the ... Hotter and drier weather shifts across Southern Brazil. To compensate, wetter conditions develop in Northeast Argentina. Week-3 Valid January 26-February 1, 2025: Drier Brazil continues. Discussion: The Brazil hot and dry pattern expands. Northeast Argentina rains (also) expand. Week-4 Valid February 2-8, 2025: Brazil dryness persists. After a year marked by severe weather causing human and economic losses across Brazil, forecasts suggest no relief in 2025. Once again, agriculture is expected to bear the brunt as meteorologists predict prolonged droughts interspersed with intense rainfall, coupled with above-average temperatures. Forecast models show challenging weather conditions in South America that may have implications on a forecast record-production year ... USDA), Brazil soybean production for the 2024/2025 marketing year is forecast at 169 million metric tons, up 16 million metric tons from last year. USDA. David Tolleris, meteorologist and owner of wxrisk.com ...\u001b[0m\u001b[32;1m\u001b[1;3mThought: The weather patterns in Brazil for 2025 are predicted to be challenging with droughts and intense rainfall. This could negatively impact orange production. I need information about the global demand for oranges.\n",
      "\n",
      "Action: DuckDuckGo Search\n",
      "Action Input: \"global orange demand forecast\"\u001b[0m\u001b[36;1m\u001b[1;3mAustralia production is forecast up 25,000 tons to 545,000 tons. Exports are up. ORANGE JUICE. Global OJ production for 2024-25 is forecast up 4% to 1.4 million tons of 65 degreesBrix concentrate. Higher production in Brazil and Mexico is expected to offset lower production in the United States. Brazil production is forecast up 9% to 1 ... The European orange market is projected to grow at a CAGR of 4% from 2023 to 2025, with increasing demand for organic oranges and orange juice. The market was valued at around $5 billion in 2023. ... Future Outlook and Forecasts. The global orange industry is expected to continue its growth trajectory through 2025, driven by changing consumer ... Here is a country-by-country production summary: Brazil production is estimated down 9% to 1.1 million tons. Exports are down. Brazil is projected to account for about 75% of global OJ exports. Mexico production is projected to increase 11% to 155,000 tons. Exports are up with the rise in available supplies and continued demand from the United States, the top export market. A similarly dismal picture has been echoed by the United States Department of Agriculture (USDA) more recently, which has forecast global orange production for the 2024/25 season at 45.2 million ... The latest IMARC Group study, \"Orange Prices, Trend, Chart, Demand, Market Analysis, News, Historical and Forecast Data 2024 Edition,\" presents a detailed analysis of Orange price trend, offering key insights into global Orange market dynamics. This report includes comprehensive price charts, which trace historical data and highlights major ...\u001b[0m\u001b[32;1m\u001b[1;3mThought: The global demand for oranges is projected to grow, particularly in Europe. However, the challenging weather conditions in Brazil could significantly impact production.\n",
      "\n",
      "Action: Calculator\n",
      "Action Input: 210 + (210 * 0.1) \u001b[0m\u001b[33;1m\u001b[1;3mAnswer: 231.0\u001b[0m\u001b[32;1m\u001b[1;3mI now know the final answer\n",
      "Final Answer:  Враховуючи зростання попиту на апельсини та прогнозовані складні погодні умови в Бразилії, ми можемо оцінити експорт апельсинів в 2025 році на рівні близько 231 тисяч тонн.  \u001b[0m\n",
      "\n",
      "\u001b[1m> Finished chain.\u001b[0m\n"
     ]
    }
   ],
   "source": [
    "response = agent_executor.invoke({\"input\": \"Ми експортуємо апельсини з Бразилії. В 2021 експортували 200т, в 2022 - 190т, в 2023 - 210т, в 2024 який ще не закінчився - 220т. Зроби оцінку скільки ми зможемо експортувати апельсинів в 2025 враховуючи погодні умови в Бразилії і попит на апельсини в світі виходячи з економічної ситуації. Відповідай українсько.!\"})"
   ]
  },
  {
   "cell_type": "code",
   "execution_count": 237,
   "metadata": {
    "id": "UK6KA9PyRS0L"
   },
   "outputs": [
    {
     "name": "stdout",
     "output_type": "stream",
     "text": [
      "Враховуючи зростання попиту на апельсини та прогнозовані складні погодні умови в Бразилії, ми можемо оцінити експорт апельсинів в 2025 році на рівні близько 231 тисяч тонн.\n"
     ]
    }
   ],
   "source": [
    "print(response['output'])"
   ]
  },
  {
   "cell_type": "markdown",
   "metadata": {},
   "source": [
    "Отже, модель врахувала погодні умови, так як зробила запит на отримання інформації про прогноз погоди в Бразилії у 2025 році. Також врахувала попит на апельсини, тому також здійснила запит. \n",
    "\n",
    "* <i>Thought: The weather patterns in Brazil for 2025 are predicted to be challenging with droughts and intense rainfall. This could negatively impact orange production. I need information about the global demand for oranges.</i>\n",
    "* <i>Thought: The global demand for oranges is projected to grow, particularly in Europe. However, the challenging weather conditions in Brazil could significantly impact production.</i>\n",
    "\n",
    "Модель побачила що попит на апельсини зростатиме, зокрема у Європі, проте погодні умови будуть дещо нестабільними. Тому вона припустила що приріст буде 10% та передбачила експорт у 231 тисячу тон.\n",
    "\n",
    "Що можна покращити: передати усю базу експорту апельсині за днями, передати в агента щоденний моніторинг, а саме OpenWeatherMap tool та написати кастомний предиктор, який передбачатиме експорт щодня."
   ]
  },
  {
   "cell_type": "code",
   "execution_count": null,
   "metadata": {},
   "outputs": [],
   "source": []
  }
 ],
 "metadata": {
  "colab": {
   "provenance": []
  },
  "kernelspec": {
   "display_name": "Python 3 (ipykernel)",
   "language": "python",
   "name": "python3"
  },
  "language_info": {
   "codemirror_mode": {
    "name": "ipython",
    "version": 3
   },
   "file_extension": ".py",
   "mimetype": "text/x-python",
   "name": "python",
   "nbconvert_exporter": "python",
   "pygments_lexer": "ipython3",
   "version": "3.12.0"
  }
 },
 "nbformat": 4,
 "nbformat_minor": 4
}
